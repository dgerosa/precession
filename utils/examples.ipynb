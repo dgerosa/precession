{
 "cells": [
  {
   "cell_type": "markdown",
   "id": "87b2cb33",
   "metadata": {},
   "source": [
    "# Examples\n",
    "\n",
    "This is a [short notebook](https://github.com/dgerosa/precession/blob/master/utils/examples.ipynb) to illustrate some of the key features of the `precession` module. There much more than this in the code but hopefully this is a good starting point. "
   ]
  },
  {
   "cell_type": "code",
   "execution_count": null,
   "id": "9ea8de72",
   "metadata": {},
   "outputs": [],
   "source": [
    "import numpy as np\n",
    "from importlib.machinery import SourceFileLoader\n",
    "precession = SourceFileLoader(\"precession\", \"../precession/precession.py\").load_module()"
   ]
  },
  {
   "cell_type": "markdown",
   "id": "1d78f3a3",
   "metadata": {},
   "source": [
    "(The import syntax above is to make sure the online documentation grabs the latest version. For you it should just be ``import precession`` )"
   ]
  },
  {
   "cell_type": "markdown",
   "id": "4f1f00ce",
   "metadata": {},
   "source": [
    "## 1. Select a binary configuration.\n",
    "First, set the constants of motion. These include mass ratio and spin magnitudes:"
   ]
  },
  {
   "cell_type": "code",
   "execution_count": null,
   "id": "215988cc",
   "metadata": {},
   "outputs": [],
   "source": [
    "q = 0.8\n",
    "q"
   ]
  },
  {
   "cell_type": "code",
   "execution_count": null,
   "id": "e2c2df7a",
   "metadata": {},
   "outputs": [],
   "source": [
    "chi1 = 0.5\n",
    "chi1"
   ]
  },
  {
   "cell_type": "code",
   "execution_count": null,
   "id": "4179bc45",
   "metadata": {},
   "outputs": [],
   "source": [
    "chi2 = 0.9\n",
    "chi2"
   ]
  },
  {
   "cell_type": "markdown",
   "id": "aafadb40",
   "metadata": {},
   "source": [
    "From these, find a suitable value of the effective spin within its geometrical limits"
   ]
  },
  {
   "cell_type": "code",
   "execution_count": null,
   "id": "e5b1cf61",
   "metadata": {},
   "outputs": [],
   "source": [
    "chieff_minus,chieff_plus=precession.chiefflimits(q=q, chi1=chi1, chi2=chi2)\n",
    "chieff = 0.1\n",
    "assert chieff>=chieff_minus and chieff<=chieff_plus\n",
    "chieff"
   ]
  },
  {
   "cell_type": "markdown",
   "id": "4ebbb07d",
   "metadata": {},
   "source": [
    "Now the quantities that vary on the radiation-reaction timescale. Specify the orbital separation"
   ]
  },
  {
   "cell_type": "code",
   "execution_count": null,
   "id": "63834951",
   "metadata": {},
   "outputs": [],
   "source": [
    "r = 1000\n",
    "r"
   ]
  },
  {
   "cell_type": "markdown",
   "id": "231c1925",
   "metadata": {},
   "source": [
    "Find a suitable value of the asymptotic angular momentum (its boundaries are the spin-orbit resonances):"
   ]
  },
  {
   "cell_type": "code",
   "execution_count": null,
   "id": "972d0eb4",
   "metadata": {},
   "outputs": [],
   "source": [
    "kappa_minus,kappa_plus=precession.kappalimits(r=r,chieff=chieff, q=q, chi1=chi1, chi2=chi2)  \n",
    "kappa = 0.02\n",
    "assert kappa>=kappa_minus and kappa<=kappa_plus"
   ]
  },
  {
   "cell_type": "markdown",
   "id": "5725e746",
   "metadata": {},
   "source": [
    "This is more conventiently done by specifying a dimensionless number, e.g."
   ]
  },
  {
   "cell_type": "code",
   "execution_count": null,
   "id": "69dae679",
   "metadata": {},
   "outputs": [],
   "source": [
    "kappa = precession.kapparescaling(kappatilde=0.5, r=r, chieff=chieff, q=q, chi1=chi1, chi2=chi2)\n",
    "kappa"
   ]
  },
  {
   "cell_type": "markdown",
   "id": "55e3e0bb",
   "metadata": {},
   "source": [
    "Finally, the precession-timescale variation is encoded in the weighted spin difference. Its limits are given by the solutions of a cubic polynomial:"
   ]
  },
  {
   "cell_type": "code",
   "execution_count": null,
   "id": "0f8a2f7a",
   "metadata": {},
   "outputs": [],
   "source": [
    "deltachi_minus,deltachi_plus = precession.deltachilimits(kappa=kappa,r=r,chieff=chieff,q=q,chi1=chi1,chi2=chi2)\n",
    "deltachi=-0.1\n",
    "assert deltachi>=deltachi_minus and deltachi<=deltachi_plus"
   ]
  },
  {
   "cell_type": "markdown",
   "id": "49b83a5c",
   "metadata": {},
   "source": [
    "You can also sample deltachi from its PN-weighted porability density function"
   ]
  },
  {
   "cell_type": "code",
   "execution_count": null,
   "id": "d3972317",
   "metadata": {},
   "outputs": [],
   "source": [
    "deltachi = precession.deltachisampling(kappa=kappa, r=r, chieff=chieff, q=q, chi1=chi1, chi2=chi1, N=1)"
   ]
  },
  {
   "cell_type": "markdown",
   "id": "f74428dc",
   "metadata": {},
   "source": [
    "Or, as before, specify a dimensionless number, e.g."
   ]
  },
  {
   "cell_type": "code",
   "execution_count": null,
   "id": "406fd569",
   "metadata": {},
   "outputs": [],
   "source": [
    "deltachi = precession.deltachirescaling(deltachitilde=0.4, kappa=kappa, r=r, chieff=chieff, q=q, chi1=chi1, chi2=chi2)\n",
    "deltachi"
   ]
  },
  {
   "cell_type": "markdown",
   "id": "5ca00214",
   "metadata": {},
   "source": [
    "From these quantities, one can compute the spin angles"
   ]
  },
  {
   "cell_type": "code",
   "execution_count": null,
   "id": "6e35bea4",
   "metadata": {},
   "outputs": [],
   "source": [
    "theta1, theta2, deltaphi = precession.conserved_to_angles(deltachi=deltachi, kappa=kappa, r=r, chieff=chieff, q=q, chi1=chi1, chi2=chi2)\n",
    "theta1,theta2,deltaphi"
   ]
  },
  {
   "cell_type": "markdown",
   "id": "083bdca0",
   "metadata": {},
   "source": [
    "The inverse operation is"
   ]
  },
  {
   "cell_type": "code",
   "execution_count": null,
   "id": "87b118fe",
   "metadata": {},
   "outputs": [],
   "source": [
    "deltachi_, kappa_, chieff_ = precession.angles_to_conserved(theta1=theta1, theta2=theta2, deltaphi=deltaphi, r=r, q=q, chi1=chi1, chi2=chi2)\n",
    "assert np.isclose(deltachi_,deltachi) and np.isclose(kappa_,kappa) and np.isclose(chieff_,chieff)"
   ]
  },
  {
   "cell_type": "markdown",
   "id": "f5dc184e",
   "metadata": {},
   "source": [
    "One can now compute various derived quantities including:\n",
    " \n",
    "* The precession period\n",
    "* The total precession angle\n",
    "* Two flavors of the precession estimator chip\n",
    "* The spin morphology\n",
    "* ... and many more!\n"
   ]
  },
  {
   "cell_type": "code",
   "execution_count": null,
   "id": "e915e2b0",
   "metadata": {},
   "outputs": [],
   "source": [
    "tau = precession.eval_tau(kappa=kappa, r=r, chieff=chieff, q=q, chi1=chi1, chi2=chi2)\n",
    "tau"
   ]
  },
  {
   "cell_type": "code",
   "execution_count": null,
   "id": "ca2b3f86",
   "metadata": {},
   "outputs": [],
   "source": [
    "alpha = precession.eval_alpha(kappa=kappa, r=r, chieff=chieff, q=q, chi1=chi1, chi2=chi2)\n",
    "alpha"
   ]
  },
  {
   "cell_type": "code",
   "execution_count": null,
   "id": "44a4fb43",
   "metadata": {},
   "outputs": [],
   "source": [
    "chip_averaged = precession.eval_chip(deltachi=deltachi,kappa=kappa,r=r,chieff=chieff,q=q,chi1=chi1,chi2=chi2,which=\"averaged\")\n",
    "chip_averaged"
   ]
  },
  {
   "cell_type": "code",
   "execution_count": null,
   "id": "6e248e02",
   "metadata": {},
   "outputs": [],
   "source": [
    "chip_rms = precession.eval_chip(deltachi=deltachi,kappa=kappa,r=r,chieff=chieff,q=q,chi1=chi1,chi2=chi2,which=\"rms\")\n",
    "chip_rms"
   ]
  },
  {
   "cell_type": "code",
   "execution_count": null,
   "id": "7d1cff9b",
   "metadata": {},
   "outputs": [],
   "source": [
    "morph = precession.morphology(kappa=kappa, r=r, chieff=chieff, q=q, chi1=chi1, chi2=chi2 )\n",
    "morph"
   ]
  },
  {
   "cell_type": "markdown",
   "id": "97a348a2",
   "metadata": {},
   "source": [
    "## 2. Inspiral"
   ]
  },
  {
   "cell_type": "markdown",
   "id": "0e7299ff",
   "metadata": {},
   "source": [
    "Let's now evolve that binary configuration down to r=10M. "
   ]
  },
  {
   "cell_type": "code",
   "execution_count": null,
   "id": "d733da92",
   "metadata": {},
   "outputs": [],
   "source": [
    "rvals = [r, 10] # Specify all the outputs you want here\n",
    "outputs = precession.inspiral_precav(kappa=kappa,r=rvals,chieff=chieff,q=q,chi1=chi1,chi2=chi2)\n",
    "outputs"
   ]
  },
  {
   "cell_type": "markdown",
   "id": "79ed5a14",
   "metadata": {},
   "source": [
    "The same evolution can also be done with an orbit-averaged scheme (note that now you have to specify deltachi as well). This is slow:"
   ]
  },
  {
   "cell_type": "code",
   "execution_count": null,
   "id": "cfda4483",
   "metadata": {},
   "outputs": [],
   "source": [
    "outputs = precession.inspiral_orbav(deltachi=deltachi, kappa=kappa,r=rvals,chieff=chieff,q=q,chi1=chi1,chi2=chi2)\n",
    "outputs"
   ]
  },
  {
   "cell_type": "markdown",
   "id": "21de3a6a",
   "metadata": {},
   "source": [
    "Let's now take this binary at r=10M, and propagate it back to past time infinity:"
   ]
  },
  {
   "cell_type": "code",
   "execution_count": null,
   "id": "0e790880",
   "metadata": {},
   "outputs": [],
   "source": [
    "rvals = [outputs['r'][0,-1], np.inf] # Specify all the outputs you want here\n",
    "outputs = precession.inspiral_precav(kappa=outputs['kappa'][0,-1],r=rvals,chieff=chieff,q=q,chi1=chi1,chi2=chi2)\n",
    "outputs"
   ]
  },
  {
   "cell_type": "markdown",
   "id": "db82005b",
   "metadata": {},
   "source": [
    "## 3. Precession average what you like\n",
    "\n",
    "The code also allow you to precession-average quantities specified by the users. For instance, let's compute the average of deltachi. "
   ]
  },
  {
   "cell_type": "code",
   "execution_count": null,
   "id": "2139bcb6",
   "metadata": {},
   "outputs": [],
   "source": [
    "def func(deltachi):\n",
    "    return deltachi\n",
    "\n",
    "deltachiav_ = precession.precession_average(kappa=kappa, r=r, chieff=chieff, q=q, chi1=chi1, chi2=chi2, func=func)\n",
    "deltachiav_"
   ]
  },
  {
   "cell_type": "markdown",
   "id": "11fb0f04",
   "metadata": {},
   "source": [
    "For this specific case, the averaged can also be done semi-analytically in terms of elliptic integrals (though in general this is not possible). Let's check we get the same result:"
   ]
  },
  {
   "cell_type": "code",
   "execution_count": null,
   "id": "241ed084",
   "metadata": {},
   "outputs": [],
   "source": [
    "u = precession.eval_u(r, q)\n",
    "deltachiminus,deltachiplus,deltachi3 = precession.deltachiroots(kappa=kappa, u=u, chieff=chieff, q=q, chi1=chi1, chi2=chi2)\n",
    "m = precession.elliptic_parameter(kappa=kappa, u=u, chieff=chieff, q=q, chi1=chi1, chi2=chi2,\n",
    "                                  precomputedroots=np.stack([deltachiminus, deltachiplus, deltachi3]))\n",
    "deltachiav = precession.inverseaffine( precession.deltachitildeav(m),  deltachiminus, deltachiplus)\n",
    "deltachiav"
   ]
  },
  {
   "cell_type": "code",
   "execution_count": null,
   "id": "23be9d9e",
   "metadata": {},
   "outputs": [],
   "source": [
    "(deltachiav_-deltachiav)/deltachiav"
   ]
  },
  {
   "cell_type": "markdown",
   "id": "0079f12f",
   "metadata": {},
   "source": [
    "This is also an example of  how providing the optional quantity `precomputedroots` speeds up the computation."
   ]
  }
 ],
 "metadata": {
  "kernelspec": {
   "display_name": "Python 3 (ipykernel)",
   "language": "python",
   "name": "python3"
  },
  "language_info": {
   "codemirror_mode": {
    "name": "ipython",
    "version": 3
   },
   "file_extension": ".py",
   "mimetype": "text/x-python",
   "name": "python",
   "nbconvert_exporter": "python",
   "pygments_lexer": "ipython3",
   "version": "3.8.16"
  }
 },
 "nbformat": 4,
 "nbformat_minor": 5
}
