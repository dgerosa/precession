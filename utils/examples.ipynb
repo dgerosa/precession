{
 "cells": [
  {
   "cell_type": "markdown",
   "id": "87b2cb33",
   "metadata": {},
   "source": [
    "# Examples\n",
    "\n",
    "This is a short notebook to illustrate some of the key features of the `precession` module. There much more than this in the code but hopefully this is a good starting point. "
   ]
  },
  {
   "cell_type": "code",
   "execution_count": 42,
   "id": "9ea8de72",
   "metadata": {},
   "outputs": [],
   "source": [
    "import numpy as np\n",
    "from importlib.machinery import SourceFileLoader\n",
    "precession = SourceFileLoader(\"precession\", \"../codes/precession.py\").load_module()"
   ]
  },
  {
   "cell_type": "markdown",
   "id": "4f1f00ce",
   "metadata": {},
   "source": [
    "## 1. Select a binary configuration.\n",
    "First, set the constants of motion. These include mass ratio and spin magnitudes:"
   ]
  },
  {
   "cell_type": "code",
   "execution_count": 59,
   "id": "215988cc",
   "metadata": {},
   "outputs": [
    {
     "data": {
      "text/plain": [
       "0.8"
      ]
     },
     "execution_count": 59,
     "metadata": {},
     "output_type": "execute_result"
    }
   ],
   "source": [
    "q = 0.8\n",
    "q"
   ]
  },
  {
   "cell_type": "code",
   "execution_count": 60,
   "id": "e2c2df7a",
   "metadata": {},
   "outputs": [
    {
     "data": {
      "text/plain": [
       "0.5"
      ]
     },
     "execution_count": 60,
     "metadata": {},
     "output_type": "execute_result"
    }
   ],
   "source": [
    "chi1 = 0.5\n",
    "chi1"
   ]
  },
  {
   "cell_type": "code",
   "execution_count": 61,
   "id": "4179bc45",
   "metadata": {},
   "outputs": [
    {
     "data": {
      "text/plain": [
       "0.9"
      ]
     },
     "execution_count": 61,
     "metadata": {},
     "output_type": "execute_result"
    }
   ],
   "source": [
    "chi2 = 0.9\n",
    "chi2"
   ]
  },
  {
   "cell_type": "markdown",
   "id": "aafadb40",
   "metadata": {},
   "source": [
    "From these, find a suitable value of the effective spin within its geometrical limits"
   ]
  },
  {
   "cell_type": "code",
   "execution_count": 62,
   "id": "e5b1cf61",
   "metadata": {},
   "outputs": [
    {
     "data": {
      "text/plain": [
       "0.1"
      ]
     },
     "execution_count": 62,
     "metadata": {},
     "output_type": "execute_result"
    }
   ],
   "source": [
    "chieff_minus,chieff_plus=precession.chiefflimits(q=q, chi1=chi1, chi2=chi2)\n",
    "chieff = 0.1\n",
    "assert chieff>=chieff_minus and chieff<=chieff_plus\n",
    "chieff"
   ]
  },
  {
   "cell_type": "markdown",
   "id": "4ebbb07d",
   "metadata": {},
   "source": [
    "Now the quantities that vary on the radiation-reaction timescale. Specify the orbital separation"
   ]
  },
  {
   "cell_type": "code",
   "execution_count": 63,
   "id": "63834951",
   "metadata": {},
   "outputs": [
    {
     "data": {
      "text/plain": [
       "1000"
      ]
     },
     "execution_count": 63,
     "metadata": {},
     "output_type": "execute_result"
    }
   ],
   "source": [
    "r = 1000\n",
    "r"
   ]
  },
  {
   "cell_type": "markdown",
   "id": "231c1925",
   "metadata": {},
   "source": [
    "Find a suitable value of the asymptotic angular momentum (its boundaries are the spin-orbit resonances):"
   ]
  },
  {
   "cell_type": "code",
   "execution_count": 64,
   "id": "972d0eb4",
   "metadata": {},
   "outputs": [],
   "source": [
    "kappa_minus,kappa_plus=precession.kappalimits(r=r,chieff=chieff, q=q, chi1=chi1, chi2=chi2)  \n",
    "kappa = 0.02\n",
    "assert kappa>=kappa_minus and kappa<=kappa_plus"
   ]
  },
  {
   "cell_type": "markdown",
   "id": "5725e746",
   "metadata": {},
   "source": [
    "This is more conventiently done by specifying a dimensionless number, e.g."
   ]
  },
  {
   "cell_type": "code",
   "execution_count": 70,
   "id": "69dae679",
   "metadata": {},
   "outputs": [
    {
     "data": {
      "text/plain": [
       "array([0.04563644])"
      ]
     },
     "execution_count": 70,
     "metadata": {},
     "output_type": "execute_result"
    }
   ],
   "source": [
    "kappa = precession.kapparescaling(kappatilde=0.5, r=r, chieff=chieff, q=q, chi1=chi1, chi2=chi2)\n",
    "kappa"
   ]
  },
  {
   "cell_type": "markdown",
   "id": "55e3e0bb",
   "metadata": {},
   "source": [
    "Finally, the precession-timescale variation is encoded in the weighted spin difference. Its limits are given by the solutions of a cubic polynomial:"
   ]
  },
  {
   "cell_type": "code",
   "execution_count": 67,
   "id": "0f8a2f7a",
   "metadata": {},
   "outputs": [],
   "source": [
    "deltachi_minus,deltachi_plus = precession.deltachilimits(kappa=kappa,r=r,chieff=chieff,q=q,chi1=chi1,chi2=chi2)\n",
    "deltachi=-0.1\n",
    "assert deltachi>=deltachi_minus and deltachi<=deltachi_plus"
   ]
  },
  {
   "cell_type": "markdown",
   "id": "49b83a5c",
   "metadata": {},
   "source": [
    "You can also sample deltachi from its PN-weighted porability density function"
   ]
  },
  {
   "cell_type": "code",
   "execution_count": 68,
   "id": "d3972317",
   "metadata": {},
   "outputs": [],
   "source": [
    "deltachi = precession.deltachisampling(kappa=kappa, r=r, chieff=chieff, q=q, chi1=chi1, chi2=chi1, N=1)"
   ]
  },
  {
   "cell_type": "markdown",
   "id": "f74428dc",
   "metadata": {},
   "source": [
    "Or, as before, specify a dimensionless number, e.g."
   ]
  },
  {
   "cell_type": "code",
   "execution_count": 71,
   "id": "406fd569",
   "metadata": {},
   "outputs": [
    {
     "data": {
      "text/plain": [
       "array([-0.15027382])"
      ]
     },
     "execution_count": 71,
     "metadata": {},
     "output_type": "execute_result"
    }
   ],
   "source": [
    "deltachi = precession.deltachirescaling(deltachitilde=0.4, kappa=kappa, r=r, chieff=chieff, q=q, chi1=chi1, chi2=chi2)\n",
    "deltachi"
   ]
  },
  {
   "cell_type": "markdown",
   "id": "5ca00214",
   "metadata": {},
   "source": [
    "From these quantities, one can compute the spin angles"
   ]
  },
  {
   "cell_type": "code",
   "execution_count": 72,
   "id": "6e35bea4",
   "metadata": {},
   "outputs": [
    {
     "data": {
      "text/plain": [
       "(array([1.66141316]), array([1.25261228]), array([1.4089439]))"
      ]
     },
     "execution_count": 72,
     "metadata": {},
     "output_type": "execute_result"
    }
   ],
   "source": [
    "theta1, theta2, deltaphi = precession.conserved_to_angles(deltachi=deltachi, kappa=kappa, r=r, chieff=chieff, q=q, chi1=chi1, chi2=chi2)\n",
    "theta1,theta2,deltaphi"
   ]
  },
  {
   "cell_type": "markdown",
   "id": "083bdca0",
   "metadata": {},
   "source": [
    "The inverse operation is"
   ]
  },
  {
   "cell_type": "code",
   "execution_count": 73,
   "id": "87b118fe",
   "metadata": {},
   "outputs": [],
   "source": [
    "deltachi_, kappa_, chieff_ = precession.angles_to_conserved(theta1=theta1, theta2=theta2, deltaphi=deltaphi, r=r, q=q, chi1=chi1, chi2=chi2)\n",
    "assert np.isclose(deltachi_,deltachi) and np.isclose(kappa_,kappa) and np.isclose(chieff_,chieff)"
   ]
  },
  {
   "cell_type": "markdown",
   "id": "f5dc184e",
   "metadata": {},
   "source": [
    "One can now compute various derived quantities including:\n",
    " \n",
    "* The precession period\n",
    "* The total precession angle\n",
    "* Two flavors of the precession estimator chip\n",
    "* The spin morphology\n",
    "* ... and many more!\n"
   ]
  },
  {
   "cell_type": "code",
   "execution_count": 74,
   "id": "e915e2b0",
   "metadata": {},
   "outputs": [
    {
     "data": {
      "text/plain": [
       "array([1.14179292e+09])"
      ]
     },
     "execution_count": 74,
     "metadata": {},
     "output_type": "execute_result"
    }
   ],
   "source": [
    "tau = precession.eval_tau(kappa=kappa, r=r, chieff=chieff, q=q, chi1=chi1, chi2=chi2)\n",
    "tau"
   ]
  },
  {
   "cell_type": "code",
   "execution_count": 75,
   "id": "ca2b3f86",
   "metadata": {},
   "outputs": [
    {
     "data": {
      "text/plain": [
       "array([34.7076951])"
      ]
     },
     "execution_count": 75,
     "metadata": {},
     "output_type": "execute_result"
    }
   ],
   "source": [
    "alpha = precession.eval_alpha(kappa=kappa, r=r, chieff=chieff, q=q, chi1=chi1, chi2=chi2)\n",
    "alpha"
   ]
  },
  {
   "cell_type": "code",
   "execution_count": 76,
   "id": "44a4fb43",
   "metadata": {},
   "outputs": [
    {
     "data": {
      "text/plain": [
       "array([0.74912589])"
      ]
     },
     "execution_count": 76,
     "metadata": {},
     "output_type": "execute_result"
    }
   ],
   "source": [
    "chip_averaged = precession.eval_chip(deltachi=deltachi,kappa=kappa,r=r,chieff=chieff,q=q,chi1=chi1,chi2=chi2,which=\"averaged\")\n",
    "chip_averaged"
   ]
  },
  {
   "cell_type": "code",
   "execution_count": 77,
   "id": "6e248e02",
   "metadata": {},
   "outputs": [
    {
     "data": {
      "text/plain": [
       "array([0.81485269])"
      ]
     },
     "execution_count": 77,
     "metadata": {},
     "output_type": "execute_result"
    }
   ],
   "source": [
    "chip_rms = precession.eval_chip(deltachi=deltachi,kappa=kappa,r=r,chieff=chieff,q=q,chi1=chi1,chi2=chi2,which=\"rms\")\n",
    "chip_rms"
   ]
  },
  {
   "cell_type": "code",
   "execution_count": 78,
   "id": "7d1cff9b",
   "metadata": {},
   "outputs": [
    {
     "data": {
      "text/plain": [
       "array(['C+'], dtype='<U32')"
      ]
     },
     "execution_count": 78,
     "metadata": {},
     "output_type": "execute_result"
    }
   ],
   "source": [
    "morph = precession.morphology(kappa=kappa, r=r, chieff=chieff, q=q, chi1=chi1, chi2=chi2 )\n",
    "morph"
   ]
  },
  {
   "cell_type": "markdown",
   "id": "97a348a2",
   "metadata": {},
   "source": [
    "## 2. Inspiral"
   ]
  },
  {
   "cell_type": "markdown",
   "id": "0e7299ff",
   "metadata": {},
   "source": [
    "Let's now evolve that binary configuration down to r=10M. "
   ]
  },
  {
   "cell_type": "code",
   "execution_count": 79,
   "id": "d733da92",
   "metadata": {},
   "outputs": [
    {
     "data": {
      "text/plain": [
       "{'theta1': array([[1.53821471, 2.19456888]]),\n",
       " 'theta2': array([[1.34141214, 0.85578498]]),\n",
       " 'deltaphi': array([[ 3.00584269, -0.14004177]]),\n",
       " 'deltachi': array([[-0.0819023 , -0.42450079]]),\n",
       " 'kappa': array([[0.04563644, 0.06977371]]),\n",
       " 'r': array([[1000,   10]]),\n",
       " 'u': array([[0.06403612, 0.64036123]]),\n",
       " 'deltachiminus': array([[-0.19622919, -0.42562113]]),\n",
       " 'deltachiplus': array([[-0.08134075,  0.26825594]]),\n",
       " 'deltachi3': array([[0.74325701, 0.1801658 ]]),\n",
       " 'chieff': array([0.1]),\n",
       " 'q': array([0.8]),\n",
       " 'chi1': array([0.5]),\n",
       " 'chi2': array([0.9])}"
      ]
     },
     "execution_count": 79,
     "metadata": {},
     "output_type": "execute_result"
    }
   ],
   "source": [
    "rvals = [r, 10] # Specify all the outputs you want here\n",
    "outputs = precession.inspiral_precav(kappa=kappa,r=rvals,chieff=chieff,q=q,chi1=chi1,chi2=chi2)\n",
    "outputs"
   ]
  },
  {
   "cell_type": "markdown",
   "id": "79ed5a14",
   "metadata": {},
   "source": [
    "The same evolution can also be done with an orbit-averaged scheme (note that now you have to specify deltachi as well). This is slow:"
   ]
  },
  {
   "cell_type": "code",
   "execution_count": 80,
   "id": "cfda4483",
   "metadata": {},
   "outputs": [
    {
     "data": {
      "text/plain": [
       "{'t': array([[0.000000e+00, 7.935974e+10]]),\n",
       " 'theta1': array([[1.66141316, 0.88395959]]),\n",
       " 'theta2': array([[1.25261228, 1.76230812]]),\n",
       " 'deltaphi': array([[1.4089439 , 3.07301953]]),\n",
       " 'Lh': array([[ 3.13179178e-02,  5.33207833e-18,  9.99509474e-01],\n",
       "        [ 1.24542216e-03, -6.64332678e-02,  9.97790094e-01]]),\n",
       " 'S1h': array([[-0.73494006,  0.67476338, -0.06750919],\n",
       "        [ 0.1569423 , -0.79776376,  0.58218746]]),\n",
       " 'S2h': array([[-0.73753054, -0.5857321 ,  0.33610506],\n",
       "        [-0.13214013,  0.98330162, -0.12513137]]),\n",
       " 'deltachi': array([[-0.15027382,  0.25227467]]),\n",
       " 'kappa': array([[0.04563644, 0.06865318]]),\n",
       " 'r': array([[1000,   10]]),\n",
       " 'u': array([[0.06403612, 0.64036123]]),\n",
       " 'chieff': array([[0.1       , 0.09999999]]),\n",
       " 'q': array([0.8]),\n",
       " 'chi1': array([0.5]),\n",
       " 'chi2': array([0.9]),\n",
       " 'cyclesign': array([[1., 1.]])}"
      ]
     },
     "execution_count": 80,
     "metadata": {},
     "output_type": "execute_result"
    }
   ],
   "source": [
    "outputs = precession.inspiral_orbav(deltachi=deltachi, kappa=kappa,r=rvals,chieff=chieff,q=q,chi1=chi1,chi2=chi2)\n",
    "outputs"
   ]
  },
  {
   "cell_type": "markdown",
   "id": "21de3a6a",
   "metadata": {},
   "source": [
    "Let's now take this binary at r=10M, and propagate it back to past time infinity:"
   ]
  },
  {
   "cell_type": "code",
   "execution_count": 81,
   "id": "0e790880",
   "metadata": {},
   "outputs": [
    {
     "data": {
      "text/plain": [
       "{'theta1': array([[2.15582199, 1.66496014]]),\n",
       " 'theta2': array([[0.88474523, 1.25002889]]),\n",
       " 'deltaphi': array([[-0.64915237, -3.0311064 ]]),\n",
       " 'deltachi': array([[-0.40678932, -0.15223596]]),\n",
       " 'kappa': array([[0.06865318, 0.04154245]]),\n",
       " 'r': array([[10., inf]]),\n",
       " 'u': array([[0.64036123, 0.        ]]),\n",
       " 'deltachiminus': array([[-0.43153997, -0.15223596]]),\n",
       " 'deltachiplus': array([[ 0.25313089, -0.15223596]]),\n",
       " 'deltachi3': array([[0.18034069,        nan]]),\n",
       " 'chieff': array([0.1]),\n",
       " 'q': array([0.8]),\n",
       " 'chi1': array([0.5]),\n",
       " 'chi2': array([0.9])}"
      ]
     },
     "execution_count": 81,
     "metadata": {},
     "output_type": "execute_result"
    }
   ],
   "source": [
    "rvals = [outputs['r'][0,-1], np.inf] # Specify all the outputs you want here\n",
    "outputs = precession.inspiral_precav(kappa=outputs['kappa'][0,-1],r=rvals,chieff=chieff,q=q,chi1=chi1,chi2=chi2)\n",
    "outputs"
   ]
  },
  {
   "cell_type": "markdown",
   "id": "db82005b",
   "metadata": {},
   "source": [
    "## 3. Precession average what you like\n",
    "\n",
    "The code also allow you to precession-average quantities specified by the users. For instance, let's compute the average of deltachi. "
   ]
  },
  {
   "cell_type": "code",
   "execution_count": 82,
   "id": "2139bcb6",
   "metadata": {},
   "outputs": [
    {
     "data": {
      "text/plain": [
       "array([-0.13857097])"
      ]
     },
     "execution_count": 82,
     "metadata": {},
     "output_type": "execute_result"
    }
   ],
   "source": [
    "def func(deltachi):\n",
    "    return deltachi\n",
    "\n",
    "deltachiav_ = precession.precession_average(kappa=kappa, r=r, chieff=chieff, q=q, chi1=chi1, chi2=chi2, func=func)\n",
    "deltachiav_"
   ]
  },
  {
   "cell_type": "markdown",
   "id": "11fb0f04",
   "metadata": {},
   "source": [
    "For this specific case, the averaged can also be done semi-analytically in terms of elliptic integrals (though in general this is not possible). Let's check we get the same result:"
   ]
  },
  {
   "cell_type": "code",
   "execution_count": 88,
   "id": "241ed084",
   "metadata": {},
   "outputs": [
    {
     "data": {
      "text/plain": [
       "array([-0.13857097])"
      ]
     },
     "execution_count": 88,
     "metadata": {},
     "output_type": "execute_result"
    }
   ],
   "source": [
    "u = precession.eval_u(r, q)\n",
    "deltachiminus,deltachiplus,deltachi3 = precession.deltachiroots(kappa=kappa, u=u, chieff=chieff, q=q, chi1=chi1, chi2=chi2)\n",
    "m = precession.elliptic_parameter(kappa=kappa, u=u, chieff=chieff, q=q, chi1=chi1, chi2=chi2,\n",
    "                                  precomputedroots=np.stack([deltachiminus, deltachiplus, deltachi3]))\n",
    "deltachiav = precession.inverseaffine( precession.deltachitildeav(m),  deltachiminus, deltachiplus)\n",
    "deltachiav"
   ]
  },
  {
   "cell_type": "code",
   "execution_count": 87,
   "id": "23be9d9e",
   "metadata": {},
   "outputs": [
    {
     "data": {
      "text/plain": [
       "array([-8.99340873e-14])"
      ]
     },
     "execution_count": 87,
     "metadata": {},
     "output_type": "execute_result"
    }
   ],
   "source": [
    "(deltachiav_-deltachiav)/deltachiav"
   ]
  },
  {
   "cell_type": "markdown",
   "id": "0079f12f",
   "metadata": {},
   "source": [
    "This is also an example of  how providing the optional quantity `precomputedroots` speeds up the computation."
   ]
  }
 ],
 "metadata": {
  "kernelspec": {
   "display_name": "Python 3 (ipykernel)",
   "language": "python",
   "name": "python3"
  },
  "language_info": {
   "codemirror_mode": {
    "name": "ipython",
    "version": 3
   },
   "file_extension": ".py",
   "mimetype": "text/x-python",
   "name": "python",
   "nbconvert_exporter": "python",
   "pygments_lexer": "ipython3",
   "version": "3.8.16"
  }
 },
 "nbformat": 4,
 "nbformat_minor": 5
}
